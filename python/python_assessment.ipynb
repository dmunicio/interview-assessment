{
  "cells": [
    {
      "cell_type": "markdown",
      "metadata": {
        "id": "_IBexsLGMici"
      },
      "source": [
        "# Python programming Skills Assessment\n",
        "\n"
      ]
    },
    {
      "cell_type": "markdown",
      "metadata": {
        "id": "EFfXhKUWMick"
      },
      "source": [
        "## [Data Structures]\n",
        "\n",
        "### Question 1\n",
        "\n",
        "Explain the difference between a list and a tuple in Python.\n"
      ]
    },
    {
      "cell_type": "markdown",
      "metadata": {
        "id": "jtmksmwWMick"
      },
      "source": [
        "### Task 1:\n",
        "What is wrong with this python code? Fix it.\n",
        "\n",
        "\n",
        "### Code:"
      ]
    },
    {
      "cell_type": "code",
      "execution_count": null,
      "metadata": {
        "id": "uoxffq3_Micl",
        "outputId": "4275fd1e-8a96-46b9-90f3-31724e1a61a5"
      },
      "outputs": [
        {
          "ename": "AttributeError",
          "evalue": "'tuple' object has no attribute 'append'",
          "output_type": "error",
          "traceback": [
            "\u001b[0;31m---------------------------------------------------------------------------\u001b[0m",
            "\u001b[0;31mAttributeError\u001b[0m                            Traceback (most recent call last)",
            "Input \u001b[0;32mIn [23]\u001b[0m, in \u001b[0;36m<module>\u001b[0;34m\u001b[0m\n\u001b[1;32m      1\u001b[0m countries \u001b[38;5;241m=\u001b[39m (\u001b[38;5;124m'\u001b[39m\u001b[38;5;124mArgentina\u001b[39m\u001b[38;5;124m'\u001b[39m, \u001b[38;5;124m'\u001b[39m\u001b[38;5;124mBrazil\u001b[39m\u001b[38;5;124m'\u001b[39m, \u001b[38;5;124m'\u001b[39m\u001b[38;5;124mFrance\u001b[39m\u001b[38;5;124m'\u001b[39m, \u001b[38;5;124m'\u001b[39m\u001b[38;5;124mGermany\u001b[39m\u001b[38;5;124m'\u001b[39m, \u001b[38;5;124m'\u001b[39m\u001b[38;5;124mItaly\u001b[39m\u001b[38;5;124m'\u001b[39m, \u001b[38;5;124m'\u001b[39m\u001b[38;5;124mSpain\u001b[39m\u001b[38;5;124m'\u001b[39m)\n\u001b[0;32m----> 2\u001b[0m \u001b[38;5;28mprint\u001b[39m(\u001b[43mcountries\u001b[49m\u001b[38;5;241;43m.\u001b[39;49m\u001b[43mappend\u001b[49m(\u001b[38;5;124m'\u001b[39m\u001b[38;5;124mBelgium\u001b[39m\u001b[38;5;124m'\u001b[39m))\n",
            "\u001b[0;31mAttributeError\u001b[0m: 'tuple' object has no attribute 'append'"
          ]
        }
      ],
      "source": [
        "countries = ('Argentina', 'Brazil', 'France', 'Germany', 'Italy', 'Spain')\n",
        "print(countries.append('Belgium'))\n"
      ]
    },
    {
      "cell_type": "markdown",
      "metadata": {
        "id": "ortGhI8WMicn"
      },
      "source": [
        "\n",
        "### Question 2\n",
        "\n",
        "Explain how to handle missing keys in a dictionary. What methods can be used to provide default values for keys that are not present?"
      ]
    },
    {
      "cell_type": "markdown",
      "metadata": {
        "id": "0UvHvUAtMico"
      },
      "source": [
        "### Task 2a:\n",
        "From this dictionary with the FIFA World Cup winners, complete `get_winner` function to extract the winner given a year\n",
        "\n",
        "\n",
        "### Code:"
      ]
    },
    {
      "cell_type": "code",
      "execution_count": null,
      "metadata": {
        "id": "zwX8mhDdMico",
        "outputId": "449cb9e9-b76e-4e92-9070-af5223c837ff"
      },
      "outputs": [
        {
          "name": "stdout",
          "output_type": "stream",
          "text": [
            "False\n",
            "False\n",
            "True\n"
          ]
        }
      ],
      "source": [
        "winners = {\n",
        "    \"2022\": {\"winner\": \"San Marino\"},\n",
        "    \"2018\": {\"winner\": \"France\"},\n",
        "    \"2014\": {\"winner\": \"Germany\"},\n",
        "    \"2010\": {\"winner\": \"Spain\"},\n",
        "    \"2006\": {\"winner\": \"Italy\"},\n",
        "    \"2002\": {\"winner\": \"Brazil\"},\n",
        "    \"1998\": {\"winner\": \"France\"},\n",
        "    \"1994\": {\"winner\": \"Brazil\"},\n",
        "    \"1990\": {\"winner\": \"Germany\"},\n",
        "}\n",
        "\n",
        "def get_winner(year):\n",
        "    # Add the code to extract winner from winners dict\n",
        "    # return None if there is no entry in the dict for that year\n",
        "    pass\n",
        "\n",
        "print(get_winner(\"1990\") == \"Germany\")\n",
        "print(get_winner(\"2010\") == \"Spain\")\n",
        "print(get_winner(\"2011\") is None)\n"
      ]
    },
    {
      "cell_type": "markdown",
      "metadata": {
        "id": "zlbXur4pMicp"
      },
      "source": [
        "### Task 2b:\n",
        "Now modify `get_winner` code to allow a string or an integer as parameter. Following test code should return True\n",
        "\n",
        "Improve the function documentation as much as you can.\n",
        "\n",
        "### Code:"
      ]
    },
    {
      "cell_type": "code",
      "execution_count": null,
      "metadata": {
        "id": "7bvzzZlWMicp",
        "outputId": "118d1bd7-5c0e-4626-a4e9-cf62adf2d68b"
      },
      "outputs": [
        {
          "name": "stdout",
          "output_type": "stream",
          "text": [
            "False\n",
            "False\n"
          ]
        }
      ],
      "source": [
        "print(get_winner(2002) == \"Brazil\")\n",
        "try:\n",
        "    get_winner([])\n",
        "except:\n",
        "    print(True)\n",
        "else:\n",
        "    print(False)"
      ]
    },
    {
      "cell_type": "markdown",
      "metadata": {
        "id": "JvfpKVHXMicp"
      },
      "source": [
        "### Question 3\n",
        "\n",
        "What is the primary use case for a set in Python?\n"
      ]
    },
    {
      "cell_type": "markdown",
      "metadata": {
        "id": "pArEOox6Micq"
      },
      "source": [
        "### Task 3:\n",
        "Get the sorted list of winners without duplicates\n",
        "\n",
        "### Code:"
      ]
    },
    {
      "cell_type": "code",
      "execution_count": null,
      "metadata": {
        "id": "StO9dzyHMicq",
        "outputId": "2c98492f-4c12-40d0-eb33-95245519c16c"
      },
      "outputs": [
        {
          "name": "stdout",
          "output_type": "stream",
          "text": [
            "False\n"
          ]
        }
      ],
      "source": [
        "winners = {\n",
        "    \"2022\": {\"winner\": \"Argentina\"},\n",
        "    \"2018\": {\"winner\": \"France\"},\n",
        "    \"2014\": {\"winner\": \"Germany\"},\n",
        "    \"2010\": {\"winner\": \"Spain\"},\n",
        "    \"2006\": {\"winner\": \"Italy\"},\n",
        "    \"2002\": {\"winner\": \"Brazil\"},\n",
        "    \"1998\": {\"winner\": \"France\"},\n",
        "    \"1994\": {\"winner\": \"Brazil\"},\n",
        "    \"1990\": {\"winner\": \"Germany\"},\n",
        "}\n",
        "def get_countries():\n",
        "    # Add the code to get the list of countries without duplicates alphabetically sorted\n",
        "    pass\n",
        "expected_list = ['Argentina', 'Brazil', 'France', 'Germany', 'Italy', 'Spain']\n",
        "print(get_countries()==expected_list)"
      ]
    },
    {
      "cell_type": "markdown",
      "metadata": {
        "id": "G1lnQLBxMicq"
      },
      "source": [
        "### Question 4\n",
        "\n",
        "How do we iterate over a dict? (e.g. by key, by values, by keys and values)"
      ]
    },
    {
      "cell_type": "markdown",
      "metadata": {
        "id": "l9R9xe56Micr"
      },
      "source": [
        "### Task 4:\n",
        "Count number of wins for each winner\n",
        "\n",
        "### Code:"
      ]
    },
    {
      "cell_type": "code",
      "execution_count": null,
      "metadata": {
        "id": "Jtwl0FD2Micr",
        "outputId": "2541cf19-874f-46e1-b683-9bf7aa1060b7"
      },
      "outputs": [
        {
          "name": "stdout",
          "output_type": "stream",
          "text": [
            "False\n"
          ]
        }
      ],
      "source": [
        "def count_wins():\n",
        "    # Add code to return a dict with the wins for each winner\n",
        "    pass\n",
        "\n",
        "expected_dict = {'Argentina': 1, 'France': 2, 'Italy': 1, 'Germany': 2, 'Spain': 1, 'Brazil': 2}\n",
        "print(count_wins()==expected_dict)"
      ]
    },
    {
      "cell_type": "markdown",
      "metadata": {
        "id": "Kq1NQbExMics"
      },
      "source": [
        "### Question 5\n",
        "\n",
        "What is the difference between a FIFO (Stack) and LIFO (queue)?"
      ]
    },
    {
      "cell_type": "markdown",
      "metadata": {
        "id": "J7lnFnilMics"
      },
      "source": [
        "### Task 5:\n",
        "Implement a stack (FIFO) using an array. Complete the `Stack` class with methods for push, pop, and is_empty.\n",
        "\n",
        "### Code:"
      ]
    },
    {
      "cell_type": "code",
      "execution_count": null,
      "metadata": {
        "id": "ucd1tEvBMics",
        "outputId": "0de91835-d30e-43c6-c16c-8b71c0350ae6"
      },
      "outputs": [
        {
          "name": "stdout",
          "output_type": "stream",
          "text": [
            "False\n",
            "False\n",
            "False\n",
            "False\n",
            "False\n"
          ]
        }
      ],
      "source": [
        "class Stack:\n",
        "    def __init__(self):\n",
        "        self.items = []\n",
        "\n",
        "    def push(self, item):\n",
        "        # Add item to the stack\n",
        "        pass\n",
        "\n",
        "    def pop(self):\n",
        "        # Remove and return the top item from the stack\n",
        "        pass\n",
        "\n",
        "    def is_empty(self):\n",
        "        # Return True if the stack is empty, False otherwise\n",
        "        pass\n",
        "\n",
        "\n",
        "# Testing the Stack class\n",
        "s = Stack()\n",
        "s.push(1)\n",
        "s.push(2)\n",
        "s.push(3)\n",
        "print(s.pop()==3)  # Should print 3\n",
        "print(s.is_empty()==False)  # Should print False\n",
        "print(s.pop()==2)  # Should print 2\n",
        "print(s.pop()==1)  # Should print 1\n",
        "print(s.is_empty()==True)  # Should print True\n"
      ]
    },
    {
      "cell_type": "markdown",
      "metadata": {
        "id": "5SXBV6j0Mict"
      },
      "source": [
        "## [Object Oriented Programming]\n",
        "\n",
        "### Task 6:\n",
        "Given the `Stack` class, create a `Queue` class that inherits from `Stack`. Modify what is needed in Queue class to change the behaviour into a LIFO (Queue)."
      ]
    },
    {
      "cell_type": "code",
      "execution_count": null,
      "metadata": {
        "id": "JXSUHAOgMict",
        "outputId": "5af9cfd9-a8c5-431a-fec0-9728378b2ca1"
      },
      "outputs": [
        {
          "name": "stdout",
          "output_type": "stream",
          "text": [
            "False\n",
            "True\n",
            "True\n",
            "False\n",
            "True\n"
          ]
        }
      ],
      "source": [
        "class Stack:\n",
        "    def __init__(self):\n",
        "        self.items = []\n",
        "\n",
        "    def push(self, item):\n",
        "        # Add item to the stack\n",
        "        self.items.append(item)\n",
        "\n",
        "    def pop(self):\n",
        "        # Remove and return the top item from the stack\n",
        "        if not self.is_empty():\n",
        "            return self.items.pop()\n",
        "        return None\n",
        "\n",
        "    def is_empty(self):\n",
        "        # Return True if the stack is empty, False otherwise\n",
        "        return len(self.items) == 0\n",
        "\n",
        "class Queue(Stack):\n",
        "    pass\n",
        "\n",
        "# Testing the Queue class\n",
        "q = Queue()\n",
        "q.push(1)\n",
        "q.push(2)\n",
        "q.push(3)\n",
        "print(q.pop()==1)  # Should print 3\n",
        "print(q.is_empty()==False)  # Should print False\n",
        "print(q.pop()==2)  # Should print 2\n",
        "print(q.pop()==3)  # Should print 1\n",
        "print(q.is_empty()==True)  # Should print True"
      ]
    },
    {
      "cell_type": "markdown",
      "metadata": {
        "id": "neFx5NXeMicy"
      },
      "source": [
        "## [Problem-Solving Skills]\n",
        "\n",
        "### Task:\n",
        "This a code that uses requests library to retrieve information from a json hosted in a website.\n",
        "\n",
        "What can be done to return None after 5 seconds if for some reason there is no connectivy with the website?\n",
        "\n",
        "Suggest improvements for this code.\n",
        "\n",
        "\n",
        "### Code:"
      ]
    },
    {
      "cell_type": "code",
      "execution_count": null,
      "metadata": {
        "id": "CPkS-SqcMicy",
        "outputId": "e1ad33f1-475a-4676-f651-3fc67efd6788"
      },
      "outputs": [
        {
          "name": "stdout",
          "output_type": "stream",
          "text": [
            "{'price': '$11.41', 'high': '$11.51', 'low': '$11.21'}\n"
          ]
        }
      ],
      "source": [
        "import requests\n",
        "URL = \"https://www.miteksystems.com/mitk.json?user=myuser1&password=mypassword\"\n",
        "def get_mitk_price():\n",
        "    response = requests.get(url)\n",
        "    return response.json().get('price')\n",
        "print(response.json())"
      ]
    },
    {
      "cell_type": "markdown",
      "metadata": {
        "id": "UH8HyvJ1Micz"
      },
      "source": [
        "## [Testing]\n",
        "### Question:\n",
        "\n",
        "* Have you used any testing framework? Which one?\n",
        "* Mention different type of tests can be done over the code and systems (not only in python, but in general) and some frameworks that can be used for each."
      ]
    },
    {
      "cell_type": "markdown",
      "metadata": {
        "id": "8q6Sk1s7Micz"
      },
      "source": [
        "## [Web technologies]\n",
        "\n",
        "### Questions:\n",
        "\n",
        "A static website takes too long to load. What can be done?\n",
        "\n"
      ]
    },
    {
      "cell_type": "markdown",
      "metadata": {
        "id": "ol9lNRRnMic0"
      },
      "source": [
        "## [Git]\n",
        "\n",
        "### Questions\n",
        "\n",
        "Given this prompt\n",
        "\n",
        "`myuser@MYMACHINE:git/myrepo ‹develop›$`\n",
        "\n",
        "Which is the selected branch?\n",
        "\n",
        "What does each of these commands do?\n",
        "* `git checkout -b feature/whatever`\n",
        "* `git add myfile.txt`\n",
        "* `git commit -m \"some message\"`\n",
        "* `git push origin feature/whatever`"
      ]
    }
  ],
  "metadata": {
    "kernelspec": {
      "display_name": "Python 3 (ipykernel)",
      "language": "python",
      "name": "python3"
    },
    "language_info": {
      "codemirror_mode": {
        "name": "ipython",
        "version": 3
      },
      "file_extension": ".py",
      "mimetype": "text/x-python",
      "name": "python",
      "nbconvert_exporter": "python",
      "pygments_lexer": "ipython3",
      "version": "3.9.18"
    },
    "colab": {
      "provenance": []
    }
  },
  "nbformat": 4,
  "nbformat_minor": 0
}